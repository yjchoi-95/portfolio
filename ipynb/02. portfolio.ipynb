{
 "cells": [
  {
   "cell_type": "markdown",
   "id": "bf85396f",
   "metadata": {},
   "source": [
    "* 6000, 6002, 1171 (국내), 1871 (해외)"
   ]
  },
  {
   "cell_type": "markdown",
   "id": "c6b76585",
   "metadata": {},
   "source": [
    "## Import"
   ]
  },
  {
   "cell_type": "code",
   "execution_count": 81,
   "id": "eebbb448",
   "metadata": {},
   "outputs": [],
   "source": [
    "import copy\n",
    "import numpy as np\n",
    "from pypfopt import risk_models, exceptions\n",
    "from pypfopt import EfficientFrontier, CLA\n",
    "import scipy.cluster.hierarchy as sch\n",
    "import warnings\n",
    "\n",
    "import matplotlib.pyplot as plt\n",
    "\n",
    "plt.style.use(\"seaborn-deep\")"
   ]
  },
  {
   "cell_type": "code",
   "execution_count": 82,
   "id": "eeaa50ba",
   "metadata": {},
   "outputs": [],
   "source": [
    "from pypfopt.expected_returns import mean_historical_return, ema_historical_return, capm_return, returns_from_prices\n",
    "from pypfopt.risk_models import CovarianceShrinkage\n",
    "from pypfopt.efficient_frontier import EfficientFrontier\n",
    "\n",
    "import matplotlib.pyplot as plt\n",
    "import FinanceDataReader as fdr\n",
    "import pypfopt\n",
    "import pandas as pd\n",
    "import numpy as np\n",
    "import datetime\n",
    "import os\n",
    "\n",
    "plt.rcParams['font.family']=\"gulim\""
   ]
  },
  {
   "cell_type": "code",
   "execution_count": null,
   "id": "71082b5d",
   "metadata": {},
   "outputs": [],
   "source": []
  },
  {
   "cell_type": "markdown",
   "id": "f73ac702",
   "metadata": {},
   "source": [
    "* functions"
   ]
  },
  {
   "cell_type": "code",
   "execution_count": 106,
   "id": "807d961d",
   "metadata": {},
   "outputs": [],
   "source": [
    "def check(m, S):\n",
    "    return EfficientFrontier(m, S)\n",
    "\n",
    "def _plot_io(**kwargs):\n",
    "    \"\"\"\n",
    "    Helper method to optionally save the figure to file.\n",
    "    :param filename: name of the file to save to, defaults to None (doesn't save)\n",
    "    :type filename: str, optional\n",
    "    :param dpi: dpi of figure to save or plot, defaults to 300\n",
    "    :type dpi: int (between 50-500)\n",
    "    :param showfig: whether to plt.show() the figure, defaults to False\n",
    "    :type showfig: bool, optional\n",
    "    \"\"\"\n",
    "    filename = kwargs.get(\"filename\", None)\n",
    "    showfig = kwargs.get(\"showfig\", False)\n",
    "    dpi = kwargs.get(\"dpi\", 300)\n",
    "\n",
    "    plt.tight_layout()\n",
    "    if filename:\n",
    "        plt.savefig(fname=filename, dpi=dpi)\n",
    "    if showfig:  # pragma: no cover\n",
    "        plt.show()\n",
    "\n",
    "\n",
    "def plot_covariance(cov_matrix, plot_correlation=False, show_tickers=True, **kwargs):\n",
    "    \"\"\"\n",
    "    Generate a basic plot of the covariance (or correlation) matrix, given a\n",
    "    covariance matrix.\n",
    "    :param cov_matrix: covariance matrix\n",
    "    :type cov_matrix: pd.DataFrame or np.ndarray\n",
    "    :param plot_correlation: whether to plot the correlation matrix instead, defaults to False.\n",
    "    :type plot_correlation: bool, optional\n",
    "    :param show_tickers: whether to use tickers as labels (not recommended for large portfolios),\n",
    "                        defaults to True\n",
    "    :type show_tickers: bool, optional\n",
    "    :return: matplotlib axis\n",
    "    :rtype: matplotlib.axes object\n",
    "    \"\"\"\n",
    "    if plot_correlation:\n",
    "        matrix = risk_models.cov_to_corr(cov_matrix)\n",
    "    else:\n",
    "        matrix = cov_matrix\n",
    "    fig, ax = plt.subplots()\n",
    "\n",
    "    cax = ax.imshow(matrix)\n",
    "    fig.colorbar(cax)\n",
    "\n",
    "    if show_tickers:\n",
    "        ax.set_xticks(np.arange(0, matrix.shape[0], 1))\n",
    "        ax.set_xticklabels(matrix.index)\n",
    "        ax.set_yticks(np.arange(0, matrix.shape[0], 1))\n",
    "        ax.set_yticklabels(matrix.index)\n",
    "        plt.xticks(rotation=90)\n",
    "\n",
    "    _plot_io(**kwargs)\n",
    "\n",
    "    return ax\n",
    "\n",
    "\n",
    "def plot_dendrogram(hrp, ax=None, show_tickers=True, **kwargs):\n",
    "    \"\"\"\n",
    "    Plot the clusters in the form of a dendrogram.\n",
    "    :param hrp: HRPpt object that has already been optimized.\n",
    "    :type hrp: object\n",
    "    :param show_tickers: whether to use tickers as labels (not recommended for large portfolios),\n",
    "                        defaults to True\n",
    "    :type show_tickers: bool, optional\n",
    "    :param filename: name of the file to save to, defaults to None (doesn't save)\n",
    "    :type filename: str, optional\n",
    "    :param showfig: whether to plt.show() the figure, defaults to False\n",
    "    :type showfig: bool, optional\n",
    "    :return: matplotlib axis\n",
    "    :rtype: matplotlib.axes object\n",
    "    \"\"\"\n",
    "    ax = ax or plt.gca()\n",
    "\n",
    "    if hrp.clusters is None:\n",
    "        warnings.warn(\n",
    "            \"hrp param has not been optimized.  Attempting optimization.\",\n",
    "            RuntimeWarning,\n",
    "        )\n",
    "        hrp.optimize()\n",
    "\n",
    "    if show_tickers:\n",
    "        sch.dendrogram(hrp.clusters, labels=hrp.tickers, ax=ax, orientation=\"top\")\n",
    "        ax.tick_params(axis=\"x\", rotation=90)\n",
    "        plt.tight_layout()\n",
    "    else:\n",
    "        sch.dendrogram(hrp.clusters, no_labels=True, ax=ax)\n",
    "\n",
    "    _plot_io(**kwargs)\n",
    "\n",
    "    return ax\n",
    "\n",
    "\n",
    "def _plot_cla(cla, points, ax, show_assets, show_tickers):\n",
    "    \"\"\"\n",
    "    Helper function to plot the efficient frontier from a CLA object\n",
    "    \"\"\"\n",
    "    if cla.weights is None:\n",
    "        cla.max_sharpe()\n",
    "    optimal_ret, optimal_risk, _ = cla.portfolio_performance()\n",
    "\n",
    "    if cla.frontier_values is None:\n",
    "        cla.efficient_frontier(points=points)\n",
    "\n",
    "    mus, sigmas, _ = cla.frontier_values\n",
    "\n",
    "    ax.plot(sigmas, mus, label=\"Efficient frontier\")\n",
    "    ax.scatter(optimal_risk, optimal_ret, marker=\"x\", s=100, color=\"r\", label=\"optimal\")\n",
    "\n",
    "    asset_mu = cla.expected_returns\n",
    "    asset_sigma = np.sqrt(np.diag(cla.cov_matrix))\n",
    "    if show_assets:\n",
    "        ax.scatter(\n",
    "            asset_sigma,\n",
    "            asset_mu,\n",
    "            s=30,\n",
    "            color=\"k\",\n",
    "            label=\"assets\",\n",
    "        )\n",
    "        if show_tickers:\n",
    "            for i, label in enumerate(cla.tickers):\n",
    "                ax.annotate(label, (asset_sigma[i], asset_mu[i]))\n",
    "    return ax\n",
    "\n",
    "\n",
    "def _ef_default_returns_range(ef, points):\n",
    "    \"\"\"\n",
    "    Helper function to generate a range of returns from the GMV returns to\n",
    "    the maximum (constrained) returns\n",
    "    \"\"\"\n",
    "    ef_minvol = check(mean_return, S_exp)\n",
    "    ef_maxret = check(mean_return, S_exp)\n",
    "    #ef_minvol = copy.deepcopy(ef)\n",
    "    #ef_maxret = copy.deepcopy(ef)\n",
    "\n",
    "    ef_minvol.min_volatility()\n",
    "    min_ret = ef_minvol.portfolio_performance()[0]\n",
    "    max_ret = ef_maxret._max_return()\n",
    "    return np.linspace(min_ret, max_ret - 0.0001, points)\n",
    "\n",
    "\n",
    "def _plot_ef(ef, ef_param, ef_param_range, ax, show_assets, show_tickers):\n",
    "    \"\"\"\n",
    "    Helper function to plot the efficient frontier from an EfficientFrontier object\n",
    "    \"\"\"\n",
    "    mus, sigmas = [], []\n",
    "\n",
    "    # Create a portfolio for each value of ef_param_range\n",
    "    for param_value in ef_param_range:\n",
    "        try:\n",
    "            if ef_param == \"utility\":\n",
    "                ef.max_quadratic_utility(param_value)\n",
    "            elif ef_param == \"risk\":\n",
    "                ef.efficient_risk(param_value)\n",
    "            elif ef_param == \"return\":\n",
    "                ef.efficient_return(param_value)\n",
    "            else:\n",
    "                raise NotImplementedError(\n",
    "                    \"ef_param should be one of {'utility', 'risk', 'return'}\"\n",
    "                )\n",
    "        except exceptions.OptimizationError:\n",
    "            continue\n",
    "        except ValueError:\n",
    "            warnings.warn(\n",
    "                \"Could not construct portfolio for parameter value {:.3f}\".format(\n",
    "                    param_value\n",
    "                )\n",
    "            )\n",
    "\n",
    "        ret, sigma, _ = ef.portfolio_performance()\n",
    "        mus.append(ret)\n",
    "        sigmas.append(sigma)\n",
    "\n",
    "    ax.plot(sigmas, mus, label=\"Efficient frontier\")\n",
    "\n",
    "    asset_mu = ef.expected_returns\n",
    "    asset_sigma = np.sqrt(np.diag(ef.cov_matrix))\n",
    "    if show_assets:\n",
    "        ax.scatter(\n",
    "            asset_sigma,\n",
    "            asset_mu,\n",
    "            s=30,\n",
    "            color=\"k\",\n",
    "            label=\"assets\",\n",
    "        )\n",
    "        if show_tickers:\n",
    "            for i, label in enumerate(ef.tickers):\n",
    "                ax.annotate(label, (asset_sigma[i], asset_mu[i]))\n",
    "    return ax\n",
    "\n",
    "\n",
    "def plot_efficient_frontier(\n",
    "    opt,\n",
    "    ef_param=\"return\",\n",
    "    ef_param_range=None,\n",
    "    points=100,\n",
    "    ax=None,\n",
    "    show_assets=True,\n",
    "    show_tickers=False,\n",
    "    **kwargs\n",
    "):\n",
    "    \"\"\"\n",
    "    Plot the efficient frontier based on either a CLA or EfficientFrontier object.\n",
    "    :param opt: an instantiated optimizer object BEFORE optimising an objective\n",
    "    :type opt: EfficientFrontier or CLA\n",
    "    :param ef_param: [EfficientFrontier] whether to use a range over utility, risk, or return.\n",
    "                     Defaults to \"return\".\n",
    "    :type ef_param: str, one of {\"utility\", \"risk\", \"return\"}.\n",
    "    :param ef_param_range: the range of parameter values for ef_param.\n",
    "                           If None, automatically compute a range from min->max return.\n",
    "    :type ef_param_range: np.array or list (recommended to use np.arange or np.linspace)\n",
    "    :param points: number of points to plot, defaults to 100. This is overridden if\n",
    "                   an `ef_param_range` is provided explicitly.\n",
    "    :type points: int, optional\n",
    "    :param show_assets: whether we should plot the asset risks/returns also, defaults to True\n",
    "    :type show_assets: bool, optional\n",
    "    :param show_tickers: whether we should annotate each asset with its ticker, defaults to False\n",
    "    :type show_tickers: bool, optional\n",
    "    :param filename: name of the file to save to, defaults to None (doesn't save)\n",
    "    :type filename: str, optional\n",
    "    :param showfig: whether to plt.show() the figure, defaults to False\n",
    "    :type showfig: bool, optional\n",
    "    :return: matplotlib axis\n",
    "    :rtype: matplotlib.axes object\n",
    "    \"\"\"\n",
    "    ax = ax or plt.gca()\n",
    "\n",
    "    if isinstance(opt, CLA):\n",
    "        ax = _plot_cla(\n",
    "            opt, points, ax=ax, show_assets=show_assets, show_tickers=show_tickers\n",
    "        )\n",
    "    elif isinstance(opt, EfficientFrontier):\n",
    "        if ef_param_range is None:\n",
    "            ef_param_range = _ef_default_returns_range(opt, points)\n",
    "\n",
    "        ax = _plot_ef(\n",
    "            opt,\n",
    "            ef_param,\n",
    "            ef_param_range,\n",
    "            ax=ax,\n",
    "            show_assets=show_assets,\n",
    "            show_tickers=show_tickers,\n",
    "        )\n",
    "    else:\n",
    "        raise NotImplementedError(\"Please pass EfficientFrontier or CLA object\")\n",
    "\n",
    "    ax.legend()\n",
    "    ax.set_xlabel(\"Volatility\")\n",
    "    ax.set_ylabel(\"Return\")\n",
    "\n",
    "    _plot_io(**kwargs)\n",
    "    return ax\n",
    "\n",
    "\n",
    "def plot_weights(weights, ax=None, **kwargs):\n",
    "    \"\"\"\n",
    "    Plot the portfolio weights as a horizontal bar chart\n",
    "    :param weights: the weights outputted by any PyPortfolioOpt optimizer\n",
    "    :type weights: {ticker: weight} dict\n",
    "    :param ax: ax to plot to, optional\n",
    "    :type ax: matplotlib.axes\n",
    "    :return: matplotlib axis\n",
    "    :rtype: matplotlib.axes\n",
    "    \"\"\"\n",
    "    ax = ax or plt.gca()\n",
    "\n",
    "    desc = sorted(weights.items(), key=lambda x: x[1], reverse=True)\n",
    "    labels = [i[0] for i in desc]\n",
    "    vals = [i[1] for i in desc]\n",
    "\n",
    "    y_pos = np.arange(len(labels))\n",
    "\n",
    "    ax.barh(y_pos, vals)\n",
    "    ax.set_xlabel(\"Weight\")\n",
    "    ax.set_yticks(y_pos)\n",
    "    ax.set_yticklabels(labels)\n",
    "    ax.invert_yaxis()\n",
    "\n",
    "    _plot_io(**kwargs)\n",
    "    return ax"
   ]
  },
  {
   "cell_type": "code",
   "execution_count": 107,
   "id": "bc42bae6",
   "metadata": {},
   "outputs": [],
   "source": [
    "def read_xlsx(name):\n",
    "    instance = xw.App(visible = False)\n",
    "    xlsx_data = xw.Book(name).sheets[0]\n",
    "    df = xlsx_data.range('A1').options(pd.DataFrame, index = False, expand = 'table').value\n",
    "    instance.quit()\n",
    "    instance.kill()\n",
    "    return df\n",
    "\n",
    "def read_data(name):\n",
    "    try :\n",
    "        output = pd.read_excel(name)\n",
    "    except ValueError:    \n",
    "        output = read_xlsx(name)\n",
    "    return output"
   ]
  },
  {
   "cell_type": "code",
   "execution_count": null,
   "id": "37bfb80f",
   "metadata": {},
   "outputs": [],
   "source": []
  },
  {
   "cell_type": "markdown",
   "id": "6b85d7ef",
   "metadata": {},
   "source": [
    "## Load data"
   ]
  },
  {
   "cell_type": "code",
   "execution_count": 3,
   "id": "ddc9b3e5",
   "metadata": {},
   "outputs": [],
   "source": [
    "data_path = os.getcwd() + \"\\\\datasets\\\\\""
   ]
  },
  {
   "cell_type": "code",
   "execution_count": 4,
   "id": "af402382",
   "metadata": {},
   "outputs": [],
   "source": [
    "stock_df = read_data(data_path + \"stock_df.xlsx\")"
   ]
  },
  {
   "cell_type": "code",
   "execution_count": 5,
   "id": "b1f8c98a",
   "metadata": {},
   "outputs": [],
   "source": [
    "port_input = stock_df.iloc[:, 1:]"
   ]
  },
  {
   "cell_type": "code",
   "execution_count": null,
   "id": "3b93321a",
   "metadata": {},
   "outputs": [],
   "source": []
  },
  {
   "cell_type": "markdown",
   "id": "88e9328f",
   "metadata": {},
   "source": [
    "* Return 계산하기"
   ]
  },
  {
   "cell_type": "code",
   "execution_count": 49,
   "id": "a6494934",
   "metadata": {},
   "outputs": [],
   "source": [
    "def get_return(port_input, opt = 'mean'):\n",
    "    if opt == 'mean':\n",
    "        output = mean_historical_return(port_input)\n",
    "    elif opt == 'ema':\n",
    "        output = ema_historical_return(port_input)\n",
    "    elif opt == 'capm':\n",
    "        output = capm_return(port_input)\n",
    "    elif opt == \"price\":\n",
    "        output = returns_from_prices(port_input)\n",
    "    return output"
   ]
  },
  {
   "cell_type": "code",
   "execution_count": 50,
   "id": "7364fd58",
   "metadata": {},
   "outputs": [],
   "source": [
    "mean_return = get_return(port_input, 'mean')\n",
    "ema_return = get_return(port_input, 'ema')\n",
    "capm_return = get_return(port_input, 'capm')\n",
    "price_return = get_return(port_input, 'price')"
   ]
  },
  {
   "cell_type": "code",
   "execution_count": null,
   "id": "e6fd9a61",
   "metadata": {},
   "outputs": [],
   "source": []
  },
  {
   "cell_type": "markdown",
   "id": "922ad7f0",
   "metadata": {},
   "source": [
    "* Risk 계산하기"
   ]
  },
  {
   "cell_type": "code",
   "execution_count": 8,
   "id": "0ff67284",
   "metadata": {},
   "outputs": [],
   "source": [
    "def get_cov(port_input, opt = 'CovarianceShrinkage-01'):\n",
    "    if opt == 'CovarianceShrinkage-01':\n",
    "        S = CovarianceShrinkage(port_input).ledoit_wolf()\n",
    "    elif opt == 'CovarianceShrinkage-02':\n",
    "        S = CovarianceShrinkage(port_input).shrunk_covariance()\n",
    "    elif opt == 'CovarianceShrinkage-03':\n",
    "        S = CovarianceShrinkage(port_input).oracle_approximating()\n",
    "    elif opt == \"exp_cov\":\n",
    "        S = pypfopt.risk_models.exp_cov(port_input)\n",
    "    elif opt == \"semicovariance\":\n",
    "        S = pypfopt.risk_models.semicovariance(port_input)\n",
    "    return S"
   ]
  },
  {
   "cell_type": "code",
   "execution_count": 9,
   "id": "9ea0100a",
   "metadata": {},
   "outputs": [],
   "source": [
    "cs_01 = get_cov(port_input, opt = 'CovarianceShrinkage-01')\n",
    "cs_02 = get_cov(port_input, opt = 'CovarianceShrinkage-02')\n",
    "cs_03 = get_cov(port_input, opt = 'CovarianceShrinkage-03')\n",
    "S_exp = get_cov(port_input, opt = 'exp_cov')\n",
    "S_semi = get_cov(port_input, opt = 'semicovariance')"
   ]
  },
  {
   "cell_type": "code",
   "execution_count": null,
   "id": "764f17a7",
   "metadata": {},
   "outputs": [],
   "source": []
  },
  {
   "cell_type": "markdown",
   "id": "918e0bf5",
   "metadata": {},
   "source": [
    "* etf list 정리"
   ]
  },
  {
   "cell_type": "code",
   "execution_count": 17,
   "id": "c063aa4f",
   "metadata": {},
   "outputs": [],
   "source": [
    "etf_df = fdr.StockListing(\"ETF/KR\")\n",
    "etf_list =[x for x in port_input.columns if x in list(etf_df.Name)]\n",
    "\n",
    "cate = [\"etf\" if x in etf_list else \"stock\" for x in port_input.columns]\n",
    "sector_dict = {x:y for x,y in zip(port_input.columns, cate)}\n",
    "\n",
    "get_lower = None\n",
    "get_upper = 0.2\n",
    "\n",
    "lower_dict = {}\n",
    "upper_dict = {\"etf\":get_upper}"
   ]
  },
  {
   "cell_type": "code",
   "execution_count": null,
   "id": "89adfc62",
   "metadata": {},
   "outputs": [],
   "source": []
  },
  {
   "cell_type": "markdown",
   "id": "486ae23e",
   "metadata": {},
   "source": [
    "* EfficientFrontier"
   ]
  },
  {
   "cell_type": "code",
   "execution_count": 84,
   "id": "08a09a10",
   "metadata": {},
   "outputs": [],
   "source": [
    "def mvo(ef, method = \"max_sharpe\"):\n",
    "    if method == 'max_sharpe':\n",
    "        weights = ef.max_sharpe()\n",
    "    elif method == \"min_volatility\":\n",
    "        weights = ef.min_volatility()\n",
    "    elif method == \"max_quadratic_utility\":\n",
    "        weights = ef.max_quadratic_utility()\n",
    "    return weights"
   ]
  },
  {
   "cell_type": "code",
   "execution_count": 220,
   "id": "7e713596",
   "metadata": {},
   "outputs": [],
   "source": [
    "ef = EfficientFrontier(mean_return, S_semi)\n",
    "#ef.add_sector_constraints(sector_dict, sector_lower=lower_dict, sector_upper=upper_dict)\n",
    "#ef.add_objective(pypfopt.objective_functions.L2_reg, gamma=2)\n",
    "weights = mvo(ef, 'max_sharpe')"
   ]
  },
  {
   "cell_type": "code",
   "execution_count": 163,
   "id": "fdda7d79",
   "metadata": {},
   "outputs": [],
   "source": [
    "ef = EfficientFrontier(mean_return, S_semi)\n",
    "weights = mvo(ef, 'min_volatility')"
   ]
  },
  {
   "cell_type": "code",
   "execution_count": 87,
   "id": "acec1ab7",
   "metadata": {},
   "outputs": [],
   "source": [
    "ef = EfficientFrontier(mean_return, S_semi)\n",
    "weights = mvo(ef, 'max_quadratic_utility')"
   ]
  },
  {
   "cell_type": "code",
   "execution_count": null,
   "id": "a42157cb",
   "metadata": {},
   "outputs": [],
   "source": [
    "# maximises return for a given target risk\n",
    "ef.efficient_risk(0.08)"
   ]
  },
  {
   "cell_type": "code",
   "execution_count": 159,
   "id": "e65b616d",
   "metadata": {},
   "outputs": [
    {
     "data": {
      "text/plain": [
       "OrderedDict([('JW중외제약', 0.0),\n",
       "             ('KODEX 미국S&P500TR', 0.7967061813029677),\n",
       "             ('KODEX 코스피TR', 0.1940972981123119),\n",
       "             ('LG전자', 0.0),\n",
       "             ('NAVER', 0.0),\n",
       "             ('OCI', 0.0),\n",
       "             ('SK바이오사이언스', 0.0),\n",
       "             ('SK하이닉스', 0.0),\n",
       "             ('STX', 0.0),\n",
       "             ('고려신용정보', 0.0024565607460521),\n",
       "             ('삼성전자', 0.0),\n",
       "             ('삼천리자전거', 0.0),\n",
       "             ('씨티케이', 0.0),\n",
       "             ('아프리카TV', 0.0),\n",
       "             ('카카오', 0.0),\n",
       "             ('카카오페이', 0.0),\n",
       "             ('피씨엘', 0.0),\n",
       "             ('한탑', 0.0),\n",
       "             ('애플', 0.000292825550784),\n",
       "             ('알파벳 A주', 0.0064471342878842),\n",
       "             ('메타 플랫폼스(페이스북)', 0.0),\n",
       "             ('엔비디아', 0.0),\n",
       "             ('퀄컴', 0.0),\n",
       "             ('AMD', 0.0)])"
      ]
     },
     "execution_count": 159,
     "metadata": {},
     "output_type": "execute_result"
    }
   ],
   "source": [
    "# minimises risk for a given target return\n",
    "ef.efficient_return(0.08)"
   ]
  },
  {
   "cell_type": "code",
   "execution_count": 221,
   "id": "0b43a8e7",
   "metadata": {
    "scrolled": true
   },
   "outputs": [
    {
     "data": {
      "text/plain": [
       "(0.10744064523165449, 0.021706639832689216, 4.028290233109817)"
      ]
     },
     "execution_count": 221,
     "metadata": {},
     "output_type": "execute_result"
    }
   ],
   "source": [
    "# (expected return, volatility, sharpe ratio) for the optimized portfolio\n",
    "ef.portfolio_performance()"
   ]
  },
  {
   "cell_type": "code",
   "execution_count": null,
   "id": "a221beee",
   "metadata": {},
   "outputs": [],
   "source": []
  },
  {
   "cell_type": "markdown",
   "id": "d6456d32",
   "metadata": {},
   "source": [
    "* risk parity optimization"
   ]
  },
  {
   "cell_type": "code",
   "execution_count": 45,
   "id": "65dd2afa",
   "metadata": {},
   "outputs": [],
   "source": [
    "rp = pypfopt.hierarchical_portfolio.HRPOpt(price_return, S_semi)"
   ]
  },
  {
   "cell_type": "code",
   "execution_count": 48,
   "id": "3365f3af",
   "metadata": {},
   "outputs": [
    {
     "data": {
      "text/plain": [
       "OrderedDict([('AMD', 0.01367680552642929),\n",
       "             ('JW중외제약', 0.025890068959592012),\n",
       "             ('KODEX 미국S&P500TR', 0.21323336378241783),\n",
       "             ('KODEX 코스피TR', 0.1563560599401391),\n",
       "             ('LG전자', 0.04099825779722364),\n",
       "             ('NAVER', 0.029190559128935156),\n",
       "             ('OCI', 0.02228706665997298),\n",
       "             ('SK바이오사이언스', 0.014044596197573764),\n",
       "             ('SK하이닉스', 0.016537343315960615),\n",
       "             ('STX', 0.022388476141968938),\n",
       "             ('고려신용정보', 0.057002205921041514),\n",
       "             ('메타 플랫폼스(페이스북)', 0.04916573680352075),\n",
       "             ('삼성전자', 0.032645326154425565),\n",
       "             ('삼천리자전거', 0.020240420988156965),\n",
       "             ('씨티케이', 0.04380243500970432),\n",
       "             ('아프리카TV', 0.03378837592754709),\n",
       "             ('알파벳 A주', 0.06317489870156899),\n",
       "             ('애플', 0.022222588958519713),\n",
       "             ('엔비디아', 0.013559320493879298),\n",
       "             ('카카오', 0.020635489457276973),\n",
       "             ('카카오페이', 0.016411474304476672),\n",
       "             ('퀄컴', 0.030003931091605658),\n",
       "             ('피씨엘', 0.017106544010491928),\n",
       "             ('한탑', 0.025638654727571257)])"
      ]
     },
     "execution_count": 48,
     "metadata": {},
     "output_type": "execute_result"
    }
   ],
   "source": [
    "rp.optimize()"
   ]
  },
  {
   "cell_type": "code",
   "execution_count": 83,
   "id": "214a7be8",
   "metadata": {},
   "outputs": [
    {
     "data": {
      "text/plain": [
       "(0.13545626991592824, 0.1499549377461645, 0.7699397675811535)"
      ]
     },
     "execution_count": 83,
     "metadata": {},
     "output_type": "execute_result"
    }
   ],
   "source": [
    "rp.portfolio_performance()"
   ]
  },
  {
   "cell_type": "code",
   "execution_count": 144,
   "id": "d3c733d2",
   "metadata": {},
   "outputs": [],
   "source": []
  },
  {
   "cell_type": "markdown",
   "id": "076a3b47",
   "metadata": {},
   "source": [
    "* general efficient frontier"
   ]
  },
  {
   "cell_type": "code",
   "execution_count": 24,
   "id": "ac89acc7",
   "metadata": {},
   "outputs": [],
   "source": [
    "from pypfopt import expected_returns, EfficientSemivariance"
   ]
  },
  {
   "cell_type": "code",
   "execution_count": 31,
   "id": "07a2005a",
   "metadata": {},
   "outputs": [],
   "source": [
    "mu = mean_historical_return(port_input)\n",
    "historical_returns = returns_from_prices(port_input)\n",
    "es = EfficientSemivariance(mu, historical_returns)"
   ]
  },
  {
   "cell_type": "code",
   "execution_count": 37,
   "id": "5aa9412e",
   "metadata": {},
   "outputs": [
    {
     "name": "stdout",
     "output_type": "stream",
     "text": [
      "OrderedDict([('JW중외제약', 0.0), ('KODEX 미국S&P500TR', 0.0), ('KODEX 코스피TR', 0.0), ('LG전자', 0.0), ('NAVER', 0.21894), ('OCI', 0.0), ('SK바이오사이언스', 0.0), ('SK하이닉스', 0.0), ('STX', 0.0), ('고려신용정보', 0.07886), ('삼성전자', 0.30942), ('삼천리자전거', 0.0), ('씨티케이', 0.0), ('아프리카TV', 0.0), ('카카오', 0.0), ('카카오페이', 0.0), ('피씨엘', 0.0), ('한탑', 0.01436), ('애플', 0.25152), ('알파벳 A주', 0.12691), ('메타 플랫폼스(페이스북)', 0.0), ('엔비디아', 0.0), ('퀄컴', 0.0), ('AMD', 0.0)])\n",
      "Expected annual return: 20.0%\n",
      "Annual semi-deviation: 12.1%\n",
      "Sortino Ratio: 1.48\n"
     ]
    },
    {
     "data": {
      "text/plain": [
       "(0.20000000000000004, 0.12148081674617818, 1.4817154248813766)"
      ]
     },
     "execution_count": 37,
     "metadata": {},
     "output_type": "execute_result"
    }
   ],
   "source": [
    "weights = es.clean_weights()\n",
    "print(weights)\n",
    "es.portfolio_performance(verbose=True)"
   ]
  },
  {
   "cell_type": "code",
   "execution_count": null,
   "id": "4019e9cf",
   "metadata": {},
   "outputs": [],
   "source": []
  },
  {
   "cell_type": "markdown",
   "id": "197c0fe5",
   "metadata": {},
   "source": [
    "* plotting"
   ]
  },
  {
   "cell_type": "code",
   "execution_count": 76,
   "id": "b8139035",
   "metadata": {
    "scrolled": false
   },
   "outputs": [
    {
     "data": {
      "text/plain": [
       "<AxesSubplot:xlabel='Weight'>"
      ]
     },
     "execution_count": 76,
     "metadata": {},
     "output_type": "execute_result"
    },
    {
     "data": {
      "image/png": "[encoded data removed]",
      "text/plain": [
       "<Figure size 432x288 with 1 Axes>"
      ]
     },
     "metadata": {
      "needs_background": "light"
     },
     "output_type": "display_data"
    }
   ],
   "source": [
    "plot_weights(weights)"
   ]
  },
  {
   "cell_type": "code",
   "execution_count": 121,
   "id": "3ce71741",
   "metadata": {},
   "outputs": [
    {
     "data": {
      "text/plain": [
       "array([0.08304012, 0.08493367, 0.08682721, 0.08872075, 0.0906143 ,\n",
       "       0.09250784, 0.09440139, 0.09629493, 0.09818847, 0.10008202,\n",
       "       0.10197556, 0.1038691 , 0.10576265, 0.10765619, 0.10954973,\n",
       "       0.11144328, 0.11333682, 0.11523036, 0.11712391, 0.11901745,\n",
       "       0.12091099, 0.12280454, 0.12469808, 0.12659163, 0.12848517,\n",
       "       0.13037871, 0.13227226, 0.1341658 , 0.13605934, 0.13795289,\n",
       "       0.13984643, 0.14173997, 0.14363352, 0.14552706, 0.1474206 ,\n",
       "       0.14931415, 0.15120769, 0.15310123, 0.15499478, 0.15688832,\n",
       "       0.15878187, 0.16067541, 0.16256895, 0.1644625 , 0.16635604,\n",
       "       0.16824958, 0.17014313, 0.17203667, 0.17393021, 0.17582376,\n",
       "       0.1777173 , 0.17961084, 0.18150439, 0.18339793, 0.18529147,\n",
       "       0.18718502, 0.18907856, 0.19097211, 0.19286565, 0.19475919,\n",
       "       0.19665274, 0.19854628, 0.20043982, 0.20233337, 0.20422691,\n",
       "       0.20612045, 0.208014  , 0.20990754, 0.21180108, 0.21369463,\n",
       "       0.21558817, 0.21748171, 0.21937526, 0.2212688 , 0.22316235,\n",
       "       0.22505589, 0.22694943, 0.22884298, 0.23073652, 0.23263006,\n",
       "       0.23452361, 0.23641715, 0.23831069, 0.24020424, 0.24209778,\n",
       "       0.24399132, 0.24588487, 0.24777841, 0.24967195, 0.2515655 ,\n",
       "       0.25345904, 0.25535259, 0.25724613, 0.25913967, 0.26103322,\n",
       "       0.26292676, 0.2648203 , 0.26671385, 0.26860739, 0.27050093])"
      ]
     },
     "execution_count": 121,
     "metadata": {},
     "output_type": "execute_result"
    }
   ],
   "source": [
    "ef = EfficientFrontier(mean_return, S_semi)\n",
    "ef.max_sharpe()\n",
    "ret_tangent, std_tangent, _ = ef.portfolio_performance()\n",
    "\n",
    "ef_minvol = EfficientFrontier(mean_return, S_semi)\n",
    "ef_maxret = EfficientFrontier(mean_return, S_semi)\n",
    "\n",
    "ef_minvol.min_volatility()\n",
    "min_ret = ef_minvol.portfolio_performance()[0]\n",
    "max_ret = ef_maxret._max_return()\n",
    "np.linspace(min_ret, max_ret - 0.0001, 100)"
   ]
  },
  {
   "cell_type": "code",
   "execution_count": 122,
   "id": "a5823062",
   "metadata": {},
   "outputs": [
    {
     "data": {
      "image/png": "[encoded data removed]",
      "text/plain": [
       "<Figure size 432x288 with 1 Axes>"
      ]
     },
     "metadata": {
      "needs_background": "light"
     },
     "output_type": "display_data"
    }
   ],
   "source": [
    "fig, ax = plt.subplots()\n",
    "ax.scatter(std_tangent, ret_tangent, marker=\"*\", s=100, c=\"r\", label=\"Max Sharpe\")\n",
    "\n",
    "# Generate random portfolios\n",
    "n_samples = 10000\n",
    "w = np.random.dirichlet(np.ones(ef.n_assets), n_samples)\n",
    "rets = w.dot(ef.expected_returns)\n",
    "stds = np.sqrt(np.diag(w @ ef.cov_matrix @ w.T))\n",
    "sharpes = rets / stds\n",
    "ax.scatter(stds, rets, marker=\".\", c=sharpes, cmap=\"viridis_r\")\n",
    "\n",
    "\n",
    "# Output\n",
    "ax.set_title(\"Efficient Frontier with random portfolios\")\n",
    "ax.legend()\n",
    "plt.tight_layout()\n",
    "plt.savefig(\"ef_scatter.png\", dpi=200)\n",
    "plt.show()"
   ]
  },
  {
   "cell_type": "code",
   "execution_count": null,
   "id": "72a33fd3",
   "metadata": {},
   "outputs": [],
   "source": []
  },
  {
   "cell_type": "code",
   "execution_count": 225,
   "id": "6e3e0b43",
   "metadata": {},
   "outputs": [
    {
     "data": {
      "text/html": [
       "<div>\n",
       "<style scoped>\n",
       "    .dataframe tbody tr th:only-of-type {\n",
       "        vertical-align: middle;\n",
       "    }\n",
       "\n",
       "    .dataframe tbody tr th {\n",
       "        vertical-align: top;\n",
       "    }\n",
       "\n",
       "    .dataframe thead th {\n",
       "        text-align: right;\n",
       "    }\n",
       "</style>\n",
       "<table border=\"1\" class=\"dataframe\">\n",
       "  <thead>\n",
       "    <tr style=\"text-align: right;\">\n",
       "      <th></th>\n",
       "      <th>weights</th>\n",
       "    </tr>\n",
       "  </thead>\n",
       "  <tbody>\n",
       "    <tr>\n",
       "      <th>KODEX 미국S&amp;P500TR</th>\n",
       "      <td>0.939254</td>\n",
       "    </tr>\n",
       "    <tr>\n",
       "      <th>NAVER</th>\n",
       "      <td>0.008851</td>\n",
       "    </tr>\n",
       "    <tr>\n",
       "      <th>삼성전자</th>\n",
       "      <td>0.006489</td>\n",
       "    </tr>\n",
       "    <tr>\n",
       "      <th>애플</th>\n",
       "      <td>0.000353</td>\n",
       "    </tr>\n",
       "    <tr>\n",
       "      <th>알파벳 A주</th>\n",
       "      <td>0.044167</td>\n",
       "    </tr>\n",
       "    <tr>\n",
       "      <th>퀄컴</th>\n",
       "      <td>0.000885</td>\n",
       "    </tr>\n",
       "  </tbody>\n",
       "</table>\n",
       "</div>"
      ],
      "text/plain": [
       "                   weights\n",
       "KODEX 미국S&P500TR  0.939254\n",
       "NAVER             0.008851\n",
       "삼성전자              0.006489\n",
       "애플                0.000353\n",
       "알파벳 A주            0.044167\n",
       "퀄컴                0.000885"
      ]
     },
     "execution_count": 225,
     "metadata": {},
     "output_type": "execute_result"
    }
   ],
   "source": [
    "weight_dict = pd.DataFrame.from_dict(weights, orient = 'index', columns=['weights'])\n",
    "temp_weight = weight_dict.loc[weight_dict.weights != 0]\n",
    "temp_price = price_return.loc[:, temp_weight.index]\n",
    "temp_weight"
   ]
  },
  {
   "cell_type": "code",
   "execution_count": 226,
   "id": "fc27e23b",
   "metadata": {},
   "outputs": [
    {
     "data": {
      "text/plain": [
       "0.4653795392353111"
      ]
     },
     "execution_count": 226,
     "metadata": {},
     "output_type": "execute_result"
    }
   ],
   "source": [
    "np.sum(np.array(temp_price.sum(axis = 0)) * np.array(temp_weight['weights']))"
   ]
  },
  {
   "cell_type": "code",
   "execution_count": 229,
   "id": "328ce9a0",
   "metadata": {},
   "outputs": [
    {
     "data": {
      "text/plain": [
       "0.4653795392353111"
      ]
     },
     "execution_count": 229,
     "metadata": {},
     "output_type": "execute_result"
    }
   ],
   "source": [
    "for col in temp_price.columns:\n",
    "    temp_price[col] = temp_price[col] * temp_weight.loc[col,'weights']\n",
    "\n",
    "temp_price.sum(axis = 1).sum()"
   ]
  },
  {
   "cell_type": "code",
   "execution_count": null,
   "id": "1a5506e2",
   "metadata": {},
   "outputs": [],
   "source": []
  },
  {
   "cell_type": "markdown",
   "id": "d17230fa",
   "metadata": {},
   "source": [
    "* pyfolio"
   ]
  },
  {
   "cell_type": "code",
   "execution_count": 149,
   "id": "0051be8a",
   "metadata": {},
   "outputs": [],
   "source": [
    "from quantrocket.zipline import ZiplineBacktestResult\n",
    "\n",
    "import pyfolio as pf\n",
    "import matplotlib.pyplot as plt\n",
    "import empyrical"
   ]
  },
  {
   "cell_type": "code",
   "execution_count": 124,
   "id": "0ffd4fd0",
   "metadata": {},
   "outputs": [],
   "source": [
    "bt = ZiplineBacktestResult.from_csv('https://raw.githubusercontent.com/quantrocket-codeload/quant-finance-lectures/master/quant_finance_lectures/Lecture33-Backtest-Results.csv')"
   ]
  },
  {
   "cell_type": "code",
   "execution_count": 142,
   "id": "8cb6e58c",
   "metadata": {},
   "outputs": [],
   "source": [
    "benchmark_rets = bt.benchmark_returns\n",
    "bt_returns = bt.perf['returns']\n",
    "bt_positions = bt.positions\n",
    "bt_transactions = bt.transactions"
   ]
  },
  {
   "cell_type": "code",
   "execution_count": 143,
   "id": "1167e6b4",
   "metadata": {},
   "outputs": [
    {
     "name": "stdout",
     "output_type": "stream",
     "text": [
      "The Sharpe Ratio of the backtest is:  1.543354454834436\n"
     ]
    }
   ],
   "source": [
    "print(\"The Sharpe Ratio of the backtest is: \", empyrical.sharpe_ratio(bt_returns))"
   ]
  },
  {
   "cell_type": "code",
   "execution_count": 144,
   "id": "03cac763",
   "metadata": {},
   "outputs": [
    {
     "name": "stdout",
     "output_type": "stream",
     "text": [
      "The market beta of the backtest is:  0.5516223402218898\n"
     ]
    }
   ],
   "source": [
    "print(\"The market beta of the backtest is: \", empyrical.beta(bt_returns,benchmark_rets))"
   ]
  },
  {
   "cell_type": "code",
   "execution_count": 145,
   "id": "67f6649e",
   "metadata": {},
   "outputs": [
    {
     "name": "stdout",
     "output_type": "stream",
     "text": [
      "The maxmimum drawdown of the backtest is:  -0.04906836872744358\n"
     ]
    }
   ],
   "source": [
    "print(\"The maxmimum drawdown of the backtest is: \", empyrical.max_drawdown(bt_returns))"
   ]
  },
  {
   "cell_type": "code",
   "execution_count": 146,
   "id": "d1f7d6d9",
   "metadata": {},
   "outputs": [
    {
     "data": {
      "text/plain": [
       "DatetimeIndex(['2013-01-02 00:00:00+00:00', '2013-01-03 00:00:00+00:00',\n",
       "               '2013-01-04 00:00:00+00:00', '2013-01-07 00:00:00+00:00',\n",
       "               '2013-01-08 00:00:00+00:00', '2013-01-09 00:00:00+00:00',\n",
       "               '2013-01-10 00:00:00+00:00', '2013-01-11 00:00:00+00:00',\n",
       "               '2013-01-14 00:00:00+00:00', '2013-01-15 00:00:00+00:00',\n",
       "               ...\n",
       "               '2013-12-17 00:00:00+00:00', '2013-12-18 00:00:00+00:00',\n",
       "               '2013-12-19 00:00:00+00:00', '2013-12-20 00:00:00+00:00',\n",
       "               '2013-12-23 00:00:00+00:00', '2013-12-24 00:00:00+00:00',\n",
       "               '2013-12-26 00:00:00+00:00', '2013-12-27 00:00:00+00:00',\n",
       "               '2013-12-30 00:00:00+00:00', '2013-12-31 00:00:00+00:00'],\n",
       "              dtype='datetime64[ns, UTC]', name='date', length=252, freq=None)"
      ]
     },
     "execution_count": 146,
     "metadata": {},
     "output_type": "execute_result"
    }
   ],
   "source": [
    "bt_returns.index"
   ]
  },
  {
   "cell_type": "code",
   "execution_count": 147,
   "id": "9a93f5a4",
   "metadata": {},
   "outputs": [
    {
     "data": {
      "text/plain": [
       "DatetimeIndex(['2013-01-03 00:00:00+00:00', '2013-01-04 00:00:00+00:00',\n",
       "               '2013-01-07 00:00:00+00:00', '2013-01-08 00:00:00+00:00',\n",
       "               '2013-01-09 00:00:00+00:00', '2013-01-10 00:00:00+00:00',\n",
       "               '2013-01-11 00:00:00+00:00', '2013-01-14 00:00:00+00:00',\n",
       "               '2013-01-15 00:00:00+00:00', '2013-01-16 00:00:00+00:00',\n",
       "               ...\n",
       "               '2013-12-17 00:00:00+00:00', '2013-12-18 00:00:00+00:00',\n",
       "               '2013-12-19 00:00:00+00:00', '2013-12-20 00:00:00+00:00',\n",
       "               '2013-12-23 00:00:00+00:00', '2013-12-24 00:00:00+00:00',\n",
       "               '2013-12-26 00:00:00+00:00', '2013-12-27 00:00:00+00:00',\n",
       "               '2013-12-30 00:00:00+00:00', '2013-12-31 00:00:00+00:00'],\n",
       "              dtype='datetime64[ns, UTC]', name='date', length=251, freq=None)"
      ]
     },
     "execution_count": 147,
     "metadata": {},
     "output_type": "execute_result"
    }
   ],
   "source": [
    "benchmark_rets.index"
   ]
  },
  {
   "cell_type": "code",
   "execution_count": 274,
   "id": "ab33c524",
   "metadata": {},
   "outputs": [
    {
     "name": "stderr",
     "output_type": "stream",
     "text": [
      "C:\\Windows\\python_windows\\python_base_env\\python-3.8.9.amd64\\lib\\site-packages\\pyfolio\\plotting.py:805: FutureWarning: The default dtype for empty Series will be 'object' instead of 'float64' in a future version. Specify a dtype explicitly to silence this warning.\n",
      "  oos_cum_returns = pd.Series([])\n"
     ]
    },
    {
     "data": {
      "text/plain": [
       "<AxesSubplot:xlabel='date', ylabel='Cumulative returns'>"
      ]
     },
     "execution_count": 274,
     "metadata": {},
     "output_type": "execute_result"
    },
    {
     "data": {
      "image/png": "[encoded data removed]",
      "text/plain": [
       "<Figure size 432x288 with 1 Axes>"
      ]
     },
     "metadata": {
      "needs_background": "light"
     },
     "output_type": "display_data"
    }
   ],
   "source": [
    "pf.plotting.plot_rolling_returns(pd.concat([bt_returns, benchmark_rets], axis = 1))"
   ]
  },
  {
   "cell_type": "code",
   "execution_count": null,
   "id": "f4a4800f",
   "metadata": {},
   "outputs": [],
   "source": [
    "# Cumulative Returns\n",
    "plt.subplot(2,1,1)\n",
    "pf.plotting.plot_rolling_returns(bt_returns[:-1], benchmark_rets)"
   ]
  },
  {
   "cell_type": "code",
   "execution_count": null,
   "id": "dad31c7f",
   "metadata": {},
   "outputs": [],
   "source": [
    "# Daily, Non-Cumulative Returns\n",
    "plt.subplot(2,1,2)\n",
    "pf.plotting.plot_returns(bt_returns)\n",
    "plt.tight_layout()"
   ]
  },
  {
   "cell_type": "code",
   "execution_count": null,
   "id": "ac30aea0",
   "metadata": {},
   "outputs": [],
   "source": []
  },
  {
   "cell_type": "code",
   "execution_count": 81,
   "id": "8971ea71",
   "metadata": {},
   "outputs": [
    {
     "data": {
      "text/html": [
       "<div>\n",
       "<style scoped>\n",
       "    .dataframe tbody tr th:only-of-type {\n",
       "        vertical-align: middle;\n",
       "    }\n",
       "\n",
       "    .dataframe tbody tr th {\n",
       "        vertical-align: top;\n",
       "    }\n",
       "\n",
       "    .dataframe thead th {\n",
       "        text-align: right;\n",
       "    }\n",
       "</style>\n",
       "<table border=\"1\" class=\"dataframe\">\n",
       "  <thead>\n",
       "    <tr style=\"text-align: right;\">\n",
       "      <th>column</th>\n",
       "      <th>algorithm_period_return</th>\n",
       "      <th>benchmark_period_return</th>\n",
       "      <th>capital_used</th>\n",
       "      <th>ending_cash</th>\n",
       "      <th>ending_exposure</th>\n",
       "      <th>ending_value</th>\n",
       "      <th>excess_return</th>\n",
       "      <th>gross_leverage</th>\n",
       "      <th>long_exposure</th>\n",
       "      <th>long_value</th>\n",
       "      <th>...</th>\n",
       "      <th>starting_value</th>\n",
       "      <th>trading_days</th>\n",
       "      <th>transactions</th>\n",
       "      <th>treasury_period_return</th>\n",
       "      <th>algo_volatility</th>\n",
       "      <th>alpha</th>\n",
       "      <th>benchmark_volatility</th>\n",
       "      <th>beta</th>\n",
       "      <th>sharpe</th>\n",
       "      <th>sortino</th>\n",
       "    </tr>\n",
       "    <tr>\n",
       "      <th>date</th>\n",
       "      <th></th>\n",
       "      <th></th>\n",
       "      <th></th>\n",
       "      <th></th>\n",
       "      <th></th>\n",
       "      <th></th>\n",
       "      <th></th>\n",
       "      <th></th>\n",
       "      <th></th>\n",
       "      <th></th>\n",
       "      <th></th>\n",
       "      <th></th>\n",
       "      <th></th>\n",
       "      <th></th>\n",
       "      <th></th>\n",
       "      <th></th>\n",
       "      <th></th>\n",
       "      <th></th>\n",
       "      <th></th>\n",
       "      <th></th>\n",
       "      <th></th>\n",
       "    </tr>\n",
       "  </thead>\n",
       "  <tbody>\n",
       "    <tr>\n",
       "      <th>2013-01-02 00:00:00+00:00</th>\n",
       "      <td>0.001793</td>\n",
       "      <td>0.025633</td>\n",
       "      <td>-4190.9000</td>\n",
       "      <td>9.958091e+05</td>\n",
       "      <td>5983.565</td>\n",
       "      <td>5983.565</td>\n",
       "      <td>0.0</td>\n",
       "      <td>0.989466</td>\n",
       "      <td>498611.709</td>\n",
       "      <td>498611.709</td>\n",
       "      <td>...</td>\n",
       "      <td>0.000</td>\n",
       "      <td>1</td>\n",
       "      <td>[{'amount': 190, 'dt': Timestamp('2013-01-02 1...</td>\n",
       "      <td>0.0</td>\n",
       "      <td>NaN</td>\n",
       "      <td>NaN</td>\n",
       "      <td>NaN</td>\n",
       "      <td>NaN</td>\n",
       "      <td>NaN</td>\n",
       "      <td>NaN</td>\n",
       "    </tr>\n",
       "    <tr>\n",
       "      <th>2013-01-03 00:00:00+00:00</th>\n",
       "      <td>-0.001922</td>\n",
       "      <td>0.023343</td>\n",
       "      <td>-224.7380</td>\n",
       "      <td>9.955844e+05</td>\n",
       "      <td>2493.335</td>\n",
       "      <td>2493.335</td>\n",
       "      <td>0.0</td>\n",
       "      <td>0.991728</td>\n",
       "      <td>496157.325</td>\n",
       "      <td>496157.325</td>\n",
       "      <td>...</td>\n",
       "      <td>5983.565</td>\n",
       "      <td>2</td>\n",
       "      <td>[{'amount': -185, 'dt': Timestamp('2013-01-03 ...</td>\n",
       "      <td>0.0</td>\n",
       "      <td>0.061748</td>\n",
       "      <td>-0.561676</td>\n",
       "      <td>0.312781</td>\n",
       "      <td>0.197417</td>\n",
       "      <td>-3.908968</td>\n",
       "      <td>-5.798630</td>\n",
       "    </tr>\n",
       "    <tr>\n",
       "      <th>2013-01-04 00:00:00+00:00</th>\n",
       "      <td>-0.003388</td>\n",
       "      <td>0.027808</td>\n",
       "      <td>-1537.0310</td>\n",
       "      <td>9.940473e+05</td>\n",
       "      <td>2564.594</td>\n",
       "      <td>2564.594</td>\n",
       "      <td>0.0</td>\n",
       "      <td>1.003104</td>\n",
       "      <td>501135.227</td>\n",
       "      <td>501135.227</td>\n",
       "      <td>...</td>\n",
       "      <td>2493.335</td>\n",
       "      <td>3</td>\n",
       "      <td>[{'amount': -81, 'dt': Timestamp('2013-01-04 1...</td>\n",
       "      <td>0.0</td>\n",
       "      <td>0.043913</td>\n",
       "      <td>-0.513482</td>\n",
       "      <td>0.231168</td>\n",
       "      <td>0.186601</td>\n",
       "      <td>-6.473649</td>\n",
       "      <td>-7.776581</td>\n",
       "    </tr>\n",
       "    <tr>\n",
       "      <th>2013-01-07 00:00:00+00:00</th>\n",
       "      <td>-0.002428</td>\n",
       "      <td>0.024998</td>\n",
       "      <td>-1598.3320</td>\n",
       "      <td>9.924490e+05</td>\n",
       "      <td>5122.731</td>\n",
       "      <td>5122.731</td>\n",
       "      <td>0.0</td>\n",
       "      <td>1.002880</td>\n",
       "      <td>502783.826</td>\n",
       "      <td>502783.826</td>\n",
       "      <td>...</td>\n",
       "      <td>2564.594</td>\n",
       "      <td>4</td>\n",
       "      <td>[{'amount': -108, 'dt': Timestamp('2013-01-07 ...</td>\n",
       "      <td>0.0</td>\n",
       "      <td>0.039510</td>\n",
       "      <td>-0.282244</td>\n",
       "      <td>0.211377</td>\n",
       "      <td>0.113438</td>\n",
       "      <td>-3.860633</td>\n",
       "      <td>-4.818195</td>\n",
       "    </tr>\n",
       "    <tr>\n",
       "      <th>2013-01-08 00:00:00+00:00</th>\n",
       "      <td>0.003570</td>\n",
       "      <td>0.022045</td>\n",
       "      <td>-445.1670</td>\n",
       "      <td>9.920038e+05</td>\n",
       "      <td>11566.590</td>\n",
       "      <td>11566.590</td>\n",
       "      <td>0.0</td>\n",
       "      <td>0.995215</td>\n",
       "      <td>505167.396</td>\n",
       "      <td>505167.396</td>\n",
       "      <td>...</td>\n",
       "      <td>5122.731</td>\n",
       "      <td>5</td>\n",
       "      <td>[{'amount': 136, 'dt': Timestamp('2013-01-08 1...</td>\n",
       "      <td>0.0</td>\n",
       "      <td>0.058126</td>\n",
       "      <td>0.171992</td>\n",
       "      <td>0.194213</td>\n",
       "      <td>0.019966</td>\n",
       "      <td>3.114668</td>\n",
       "      <td>6.393692</td>\n",
       "    </tr>\n",
       "    <tr>\n",
       "      <th>...</th>\n",
       "      <td>...</td>\n",
       "      <td>...</td>\n",
       "      <td>...</td>\n",
       "      <td>...</td>\n",
       "      <td>...</td>\n",
       "      <td>...</td>\n",
       "      <td>...</td>\n",
       "      <td>...</td>\n",
       "      <td>...</td>\n",
       "      <td>...</td>\n",
       "      <td>...</td>\n",
       "      <td>...</td>\n",
       "      <td>...</td>\n",
       "      <td>...</td>\n",
       "      <td>...</td>\n",
       "      <td>...</td>\n",
       "      <td>...</td>\n",
       "      <td>...</td>\n",
       "      <td>...</td>\n",
       "      <td>...</td>\n",
       "      <td>...</td>\n",
       "    </tr>\n",
       "    <tr>\n",
       "      <th>2013-12-24 00:00:00+00:00</th>\n",
       "      <td>0.171033</td>\n",
       "      <td>0.304667</td>\n",
       "      <td>-4137.7850</td>\n",
       "      <td>1.056067e+06</td>\n",
       "      <td>114965.902</td>\n",
       "      <td>114965.902</td>\n",
       "      <td>0.0</td>\n",
       "      <td>1.236909</td>\n",
       "      <td>781713.563</td>\n",
       "      <td>781713.563</td>\n",
       "      <td>...</td>\n",
       "      <td>114164.417</td>\n",
       "      <td>248</td>\n",
       "      <td>[{'amount': 263, 'dt': Timestamp('2013-12-24 1...</td>\n",
       "      <td>0.0</td>\n",
       "      <td>0.101290</td>\n",
       "      <td>0.019757</td>\n",
       "      <td>0.111683</td>\n",
       "      <td>0.527934</td>\n",
       "      <td>1.634817</td>\n",
       "      <td>2.465909</td>\n",
       "    </tr>\n",
       "    <tr>\n",
       "      <th>2013-12-26 00:00:00+00:00</th>\n",
       "      <td>0.171839</td>\n",
       "      <td>0.311264</td>\n",
       "      <td>-11688.5804</td>\n",
       "      <td>1.044378e+06</td>\n",
       "      <td>127460.635</td>\n",
       "      <td>127460.635</td>\n",
       "      <td>0.0</td>\n",
       "      <td>1.245473</td>\n",
       "      <td>793477.325</td>\n",
       "      <td>793477.325</td>\n",
       "      <td>...</td>\n",
       "      <td>114965.902</td>\n",
       "      <td>249</td>\n",
       "      <td>[{'amount': -71, 'dt': Timestamp('2013-12-26 1...</td>\n",
       "      <td>0.0</td>\n",
       "      <td>0.101086</td>\n",
       "      <td>0.017824</td>\n",
       "      <td>0.111529</td>\n",
       "      <td>0.527271</td>\n",
       "      <td>1.638437</td>\n",
       "      <td>2.471349</td>\n",
       "    </tr>\n",
       "    <tr>\n",
       "      <th>2013-12-27 00:00:00+00:00</th>\n",
       "      <td>0.162336</td>\n",
       "      <td>0.311193</td>\n",
       "      <td>11775.3510</td>\n",
       "      <td>1.056153e+06</td>\n",
       "      <td>106182.080</td>\n",
       "      <td>106182.080</td>\n",
       "      <td>0.0</td>\n",
       "      <td>1.250686</td>\n",
       "      <td>779949.625</td>\n",
       "      <td>779949.625</td>\n",
       "      <td>...</td>\n",
       "      <td>127460.635</td>\n",
       "      <td>250</td>\n",
       "      <td>[{'amount': -1271, 'dt': Timestamp('2013-12-27...</td>\n",
       "      <td>0.0</td>\n",
       "      <td>0.101266</td>\n",
       "      <td>0.009278</td>\n",
       "      <td>0.111311</td>\n",
       "      <td>0.528045</td>\n",
       "      <td>1.548258</td>\n",
       "      <td>2.327000</td>\n",
       "    </tr>\n",
       "    <tr>\n",
       "      <th>2013-12-30 00:00:00+00:00</th>\n",
       "      <td>0.163827</td>\n",
       "      <td>0.311015</td>\n",
       "      <td>296.2410</td>\n",
       "      <td>1.056450e+06</td>\n",
       "      <td>107376.824</td>\n",
       "      <td>107376.824</td>\n",
       "      <td>0.0</td>\n",
       "      <td>1.255870</td>\n",
       "      <td>784496.055</td>\n",
       "      <td>784496.055</td>\n",
       "      <td>...</td>\n",
       "      <td>106182.080</td>\n",
       "      <td>251</td>\n",
       "      <td>[{'amount': 631, 'dt': Timestamp('2013-12-30 1...</td>\n",
       "      <td>0.0</td>\n",
       "      <td>0.101065</td>\n",
       "      <td>0.010652</td>\n",
       "      <td>0.111095</td>\n",
       "      <td>0.527912</td>\n",
       "      <td>1.557893</td>\n",
       "      <td>2.341513</td>\n",
       "    </tr>\n",
       "    <tr>\n",
       "      <th>2013-12-31 00:00:00+00:00</th>\n",
       "      <td>0.162509</td>\n",
       "      <td>0.317220</td>\n",
       "      <td>2055.7320</td>\n",
       "      <td>1.058505e+06</td>\n",
       "      <td>104003.734</td>\n",
       "      <td>104003.734</td>\n",
       "      <td>0.0</td>\n",
       "      <td>1.262042</td>\n",
       "      <td>785569.720</td>\n",
       "      <td>785569.720</td>\n",
       "      <td>...</td>\n",
       "      <td>107376.824</td>\n",
       "      <td>252</td>\n",
       "      <td>[{'amount': -784, 'dt': Timestamp('2013-12-31 ...</td>\n",
       "      <td>0.0</td>\n",
       "      <td>0.100879</td>\n",
       "      <td>0.007254</td>\n",
       "      <td>0.110933</td>\n",
       "      <td>0.526829</td>\n",
       "      <td>1.543354</td>\n",
       "      <td>2.319665</td>\n",
       "    </tr>\n",
       "  </tbody>\n",
       "</table>\n",
       "<p>252 rows × 37 columns</p>\n",
       "</div>"
      ],
      "text/plain": [
       "column                     algorithm_period_return  benchmark_period_return  \\\n",
       "date                                                                          \n",
       "2013-01-02 00:00:00+00:00                 0.001793                 0.025633   \n",
       "2013-01-03 00:00:00+00:00                -0.001922                 0.023343   \n",
       "2013-01-04 00:00:00+00:00                -0.003388                 0.027808   \n",
       "2013-01-07 00:00:00+00:00                -0.002428                 0.024998   \n",
       "2013-01-08 00:00:00+00:00                 0.003570                 0.022045   \n",
       "...                                            ...                      ...   \n",
       "2013-12-24 00:00:00+00:00                 0.171033                 0.304667   \n",
       "2013-12-26 00:00:00+00:00                 0.171839                 0.311264   \n",
       "2013-12-27 00:00:00+00:00                 0.162336                 0.311193   \n",
       "2013-12-30 00:00:00+00:00                 0.163827                 0.311015   \n",
       "2013-12-31 00:00:00+00:00                 0.162509                 0.317220   \n",
       "\n",
       "column                     capital_used   ending_cash  ending_exposure  \\\n",
       "date                                                                     \n",
       "2013-01-02 00:00:00+00:00    -4190.9000  9.958091e+05         5983.565   \n",
       "2013-01-03 00:00:00+00:00     -224.7380  9.955844e+05         2493.335   \n",
       "2013-01-04 00:00:00+00:00    -1537.0310  9.940473e+05         2564.594   \n",
       "2013-01-07 00:00:00+00:00    -1598.3320  9.924490e+05         5122.731   \n",
       "2013-01-08 00:00:00+00:00     -445.1670  9.920038e+05        11566.590   \n",
       "...                                 ...           ...              ...   \n",
       "2013-12-24 00:00:00+00:00    -4137.7850  1.056067e+06       114965.902   \n",
       "2013-12-26 00:00:00+00:00   -11688.5804  1.044378e+06       127460.635   \n",
       "2013-12-27 00:00:00+00:00    11775.3510  1.056153e+06       106182.080   \n",
       "2013-12-30 00:00:00+00:00      296.2410  1.056450e+06       107376.824   \n",
       "2013-12-31 00:00:00+00:00     2055.7320  1.058505e+06       104003.734   \n",
       "\n",
       "column                     ending_value  excess_return  gross_leverage  \\\n",
       "date                                                                     \n",
       "2013-01-02 00:00:00+00:00      5983.565            0.0        0.989466   \n",
       "2013-01-03 00:00:00+00:00      2493.335            0.0        0.991728   \n",
       "2013-01-04 00:00:00+00:00      2564.594            0.0        1.003104   \n",
       "2013-01-07 00:00:00+00:00      5122.731            0.0        1.002880   \n",
       "2013-01-08 00:00:00+00:00     11566.590            0.0        0.995215   \n",
       "...                                 ...            ...             ...   \n",
       "2013-12-24 00:00:00+00:00    114965.902            0.0        1.236909   \n",
       "2013-12-26 00:00:00+00:00    127460.635            0.0        1.245473   \n",
       "2013-12-27 00:00:00+00:00    106182.080            0.0        1.250686   \n",
       "2013-12-30 00:00:00+00:00    107376.824            0.0        1.255870   \n",
       "2013-12-31 00:00:00+00:00    104003.734            0.0        1.262042   \n",
       "\n",
       "column                     long_exposure  long_value  ...  starting_value  \\\n",
       "date                                                  ...                   \n",
       "2013-01-02 00:00:00+00:00     498611.709  498611.709  ...           0.000   \n",
       "2013-01-03 00:00:00+00:00     496157.325  496157.325  ...        5983.565   \n",
       "2013-01-04 00:00:00+00:00     501135.227  501135.227  ...        2493.335   \n",
       "2013-01-07 00:00:00+00:00     502783.826  502783.826  ...        2564.594   \n",
       "2013-01-08 00:00:00+00:00     505167.396  505167.396  ...        5122.731   \n",
       "...                                  ...         ...  ...             ...   \n",
       "2013-12-24 00:00:00+00:00     781713.563  781713.563  ...      114164.417   \n",
       "2013-12-26 00:00:00+00:00     793477.325  793477.325  ...      114965.902   \n",
       "2013-12-27 00:00:00+00:00     779949.625  779949.625  ...      127460.635   \n",
       "2013-12-30 00:00:00+00:00     784496.055  784496.055  ...      106182.080   \n",
       "2013-12-31 00:00:00+00:00     785569.720  785569.720  ...      107376.824   \n",
       "\n",
       "column                     trading_days  \\\n",
       "date                                      \n",
       "2013-01-02 00:00:00+00:00             1   \n",
       "2013-01-03 00:00:00+00:00             2   \n",
       "2013-01-04 00:00:00+00:00             3   \n",
       "2013-01-07 00:00:00+00:00             4   \n",
       "2013-01-08 00:00:00+00:00             5   \n",
       "...                                 ...   \n",
       "2013-12-24 00:00:00+00:00           248   \n",
       "2013-12-26 00:00:00+00:00           249   \n",
       "2013-12-27 00:00:00+00:00           250   \n",
       "2013-12-30 00:00:00+00:00           251   \n",
       "2013-12-31 00:00:00+00:00           252   \n",
       "\n",
       "column                                                          transactions  \\\n",
       "date                                                                           \n",
       "2013-01-02 00:00:00+00:00  [{'amount': 190, 'dt': Timestamp('2013-01-02 1...   \n",
       "2013-01-03 00:00:00+00:00  [{'amount': -185, 'dt': Timestamp('2013-01-03 ...   \n",
       "2013-01-04 00:00:00+00:00  [{'amount': -81, 'dt': Timestamp('2013-01-04 1...   \n",
       "2013-01-07 00:00:00+00:00  [{'amount': -108, 'dt': Timestamp('2013-01-07 ...   \n",
       "2013-01-08 00:00:00+00:00  [{'amount': 136, 'dt': Timestamp('2013-01-08 1...   \n",
       "...                                                                      ...   \n",
       "2013-12-24 00:00:00+00:00  [{'amount': 263, 'dt': Timestamp('2013-12-24 1...   \n",
       "2013-12-26 00:00:00+00:00  [{'amount': -71, 'dt': Timestamp('2013-12-26 1...   \n",
       "2013-12-27 00:00:00+00:00  [{'amount': -1271, 'dt': Timestamp('2013-12-27...   \n",
       "2013-12-30 00:00:00+00:00  [{'amount': 631, 'dt': Timestamp('2013-12-30 1...   \n",
       "2013-12-31 00:00:00+00:00  [{'amount': -784, 'dt': Timestamp('2013-12-31 ...   \n",
       "\n",
       "column                     treasury_period_return algo_volatility     alpha  \\\n",
       "date                                                                          \n",
       "2013-01-02 00:00:00+00:00                     0.0             NaN       NaN   \n",
       "2013-01-03 00:00:00+00:00                     0.0        0.061748 -0.561676   \n",
       "2013-01-04 00:00:00+00:00                     0.0        0.043913 -0.513482   \n",
       "2013-01-07 00:00:00+00:00                     0.0        0.039510 -0.282244   \n",
       "2013-01-08 00:00:00+00:00                     0.0        0.058126  0.171992   \n",
       "...                                           ...             ...       ...   \n",
       "2013-12-24 00:00:00+00:00                     0.0        0.101290  0.019757   \n",
       "2013-12-26 00:00:00+00:00                     0.0        0.101086  0.017824   \n",
       "2013-12-27 00:00:00+00:00                     0.0        0.101266  0.009278   \n",
       "2013-12-30 00:00:00+00:00                     0.0        0.101065  0.010652   \n",
       "2013-12-31 00:00:00+00:00                     0.0        0.100879  0.007254   \n",
       "\n",
       "column                    benchmark_volatility      beta    sharpe   sortino  \n",
       "date                                                                          \n",
       "2013-01-02 00:00:00+00:00                  NaN       NaN       NaN       NaN  \n",
       "2013-01-03 00:00:00+00:00             0.312781  0.197417 -3.908968 -5.798630  \n",
       "2013-01-04 00:00:00+00:00             0.231168  0.186601 -6.473649 -7.776581  \n",
       "2013-01-07 00:00:00+00:00             0.211377  0.113438 -3.860633 -4.818195  \n",
       "2013-01-08 00:00:00+00:00             0.194213  0.019966  3.114668  6.393692  \n",
       "...                                        ...       ...       ...       ...  \n",
       "2013-12-24 00:00:00+00:00             0.111683  0.527934  1.634817  2.465909  \n",
       "2013-12-26 00:00:00+00:00             0.111529  0.527271  1.638437  2.471349  \n",
       "2013-12-27 00:00:00+00:00             0.111311  0.528045  1.548258  2.327000  \n",
       "2013-12-30 00:00:00+00:00             0.111095  0.527912  1.557893  2.341513  \n",
       "2013-12-31 00:00:00+00:00             0.110933  0.526829  1.543354  2.319665  \n",
       "\n",
       "[252 rows x 37 columns]"
      ]
     },
     "execution_count": 81,
     "metadata": {},
     "output_type": "execute_result"
    }
   ],
   "source": [
    "# how to calculate?\n",
    "# benchmark_period_return == s&p500 return인지 봐보자\n",
    "bt.perf"
   ]
  },
  {
   "cell_type": "code",
   "execution_count": 248,
   "id": "69f7deee",
   "metadata": {},
   "outputs": [
    {
     "data": {
      "text/plain": [
       "995809.1"
      ]
     },
     "execution_count": 248,
     "metadata": {},
     "output_type": "execute_result"
    }
   ],
   "source": [
    "9.958091e+05"
   ]
  },
  {
   "cell_type": "code",
   "execution_count": 259,
   "id": "5c7c412c",
   "metadata": {},
   "outputs": [
    {
     "data": {
      "text/plain": [
       "1.2"
      ]
     },
     "execution_count": 259,
     "metadata": {},
     "output_type": "execute_result"
    }
   ],
   "source": [
    "100*0.012"
   ]
  },
  {
   "cell_type": "code",
   "execution_count": 262,
   "id": "1bce9320",
   "metadata": {},
   "outputs": [
    {
     "data": {
      "text/plain": [
       "0.001922"
      ]
     },
     "execution_count": 262,
     "metadata": {},
     "output_type": "execute_result"
    }
   ],
   "source": [
    "1922/1000000"
   ]
  },
  {
   "cell_type": "code",
   "execution_count": 265,
   "id": "967ebae3",
   "metadata": {},
   "outputs": [
    {
     "data": {
      "text/plain": [
       "1932865.7648283036"
      ]
     },
     "execution_count": 265,
     "metadata": {},
     "output_type": "execute_result"
    }
   ],
   "source": [
    "3714.968 * (1000000/1922)"
   ]
  },
  {
   "cell_type": "code",
   "execution_count": 270,
   "id": "6c63b75c",
   "metadata": {},
   "outputs": [
    {
     "data": {
      "text/plain": [
       "-0.003708320224125418"
      ]
     },
     "execution_count": 270,
     "metadata": {},
     "output_type": "execute_result"
    }
   ],
   "source": [
    "-3714.968/1001792.665"
   ]
  },
  {
   "cell_type": "code",
   "execution_count": 269,
   "id": "dfb582d7",
   "metadata": {},
   "outputs": [
    {
     "data": {
      "text/html": [
       "<div>\n",
       "<style scoped>\n",
       "    .dataframe tbody tr th:only-of-type {\n",
       "        vertical-align: middle;\n",
       "    }\n",
       "\n",
       "    .dataframe tbody tr th {\n",
       "        vertical-align: top;\n",
       "    }\n",
       "\n",
       "    .dataframe thead th {\n",
       "        text-align: right;\n",
       "    }\n",
       "</style>\n",
       "<table border=\"1\" class=\"dataframe\">\n",
       "  <thead>\n",
       "    <tr style=\"text-align: right;\">\n",
       "      <th>date</th>\n",
       "      <th>2013-01-03 00:00:00+00:00</th>\n",
       "    </tr>\n",
       "    <tr>\n",
       "      <th>column</th>\n",
       "      <th></th>\n",
       "    </tr>\n",
       "  </thead>\n",
       "  <tbody>\n",
       "    <tr>\n",
       "      <th>algorithm_period_return</th>\n",
       "      <td>-0.001922</td>\n",
       "    </tr>\n",
       "    <tr>\n",
       "      <th>benchmark_period_return</th>\n",
       "      <td>0.023343</td>\n",
       "    </tr>\n",
       "    <tr>\n",
       "      <th>capital_used</th>\n",
       "      <td>-224.738</td>\n",
       "    </tr>\n",
       "    <tr>\n",
       "      <th>ending_cash</th>\n",
       "      <td>995584.362</td>\n",
       "    </tr>\n",
       "    <tr>\n",
       "      <th>ending_exposure</th>\n",
       "      <td>2493.335</td>\n",
       "    </tr>\n",
       "    <tr>\n",
       "      <th>ending_value</th>\n",
       "      <td>2493.335</td>\n",
       "    </tr>\n",
       "    <tr>\n",
       "      <th>excess_return</th>\n",
       "      <td>0.0</td>\n",
       "    </tr>\n",
       "    <tr>\n",
       "      <th>gross_leverage</th>\n",
       "      <td>0.991728</td>\n",
       "    </tr>\n",
       "    <tr>\n",
       "      <th>long_exposure</th>\n",
       "      <td>496157.325</td>\n",
       "    </tr>\n",
       "    <tr>\n",
       "      <th>long_value</th>\n",
       "      <td>496157.325</td>\n",
       "    </tr>\n",
       "    <tr>\n",
       "      <th>longs_count</th>\n",
       "      <td>100</td>\n",
       "    </tr>\n",
       "    <tr>\n",
       "      <th>max_drawdown</th>\n",
       "      <td>-0.003708</td>\n",
       "    </tr>\n",
       "    <tr>\n",
       "      <th>max_leverage</th>\n",
       "      <td>0.991728</td>\n",
       "    </tr>\n",
       "    <tr>\n",
       "      <th>net_leverage</th>\n",
       "      <td>0.002498</td>\n",
       "    </tr>\n",
       "    <tr>\n",
       "      <th>orders</th>\n",
       "      <td>[{'id': '879d6280a1c64b70a6a23a3cc4928198', 'd...</td>\n",
       "    </tr>\n",
       "    <tr>\n",
       "      <th>period_close</th>\n",
       "      <td>2013-01-03 21:00:00+00:00</td>\n",
       "    </tr>\n",
       "    <tr>\n",
       "      <th>period_label</th>\n",
       "      <td>2013-01</td>\n",
       "    </tr>\n",
       "    <tr>\n",
       "      <th>period_open</th>\n",
       "      <td>2013-01-03 14:31:00+00:00</td>\n",
       "    </tr>\n",
       "    <tr>\n",
       "      <th>pnl</th>\n",
       "      <td>-3714.968</td>\n",
       "    </tr>\n",
       "    <tr>\n",
       "      <th>portfolio_value</th>\n",
       "      <td>998077.697</td>\n",
       "    </tr>\n",
       "    <tr>\n",
       "      <th>positions</th>\n",
       "      <td>[{'sid': Equity(FIBBG000BCJ161 [SRPT]), 'amoun...</td>\n",
       "    </tr>\n",
       "    <tr>\n",
       "      <th>returns</th>\n",
       "      <td>-0.003708</td>\n",
       "    </tr>\n",
       "    <tr>\n",
       "      <th>short_exposure</th>\n",
       "      <td>-493663.99</td>\n",
       "    </tr>\n",
       "    <tr>\n",
       "      <th>short_value</th>\n",
       "      <td>-493663.99</td>\n",
       "    </tr>\n",
       "    <tr>\n",
       "      <th>shorts_count</th>\n",
       "      <td>99</td>\n",
       "    </tr>\n",
       "    <tr>\n",
       "      <th>starting_cash</th>\n",
       "      <td>995809.1</td>\n",
       "    </tr>\n",
       "    <tr>\n",
       "      <th>starting_exposure</th>\n",
       "      <td>5983.565</td>\n",
       "    </tr>\n",
       "    <tr>\n",
       "      <th>starting_value</th>\n",
       "      <td>5983.565</td>\n",
       "    </tr>\n",
       "    <tr>\n",
       "      <th>trading_days</th>\n",
       "      <td>2</td>\n",
       "    </tr>\n",
       "    <tr>\n",
       "      <th>transactions</th>\n",
       "      <td>[{'amount': -185, 'dt': Timestamp('2013-01-03 ...</td>\n",
       "    </tr>\n",
       "    <tr>\n",
       "      <th>treasury_period_return</th>\n",
       "      <td>0.0</td>\n",
       "    </tr>\n",
       "    <tr>\n",
       "      <th>algo_volatility</th>\n",
       "      <td>0.061748</td>\n",
       "    </tr>\n",
       "    <tr>\n",
       "      <th>alpha</th>\n",
       "      <td>-0.561676</td>\n",
       "    </tr>\n",
       "    <tr>\n",
       "      <th>benchmark_volatility</th>\n",
       "      <td>0.312781</td>\n",
       "    </tr>\n",
       "    <tr>\n",
       "      <th>beta</th>\n",
       "      <td>0.197417</td>\n",
       "    </tr>\n",
       "    <tr>\n",
       "      <th>sharpe</th>\n",
       "      <td>-3.908968</td>\n",
       "    </tr>\n",
       "    <tr>\n",
       "      <th>sortino</th>\n",
       "      <td>-5.79863</td>\n",
       "    </tr>\n",
       "  </tbody>\n",
       "</table>\n",
       "</div>"
      ],
      "text/plain": [
       "date                                             2013-01-03 00:00:00+00:00\n",
       "column                                                                    \n",
       "algorithm_period_return                                          -0.001922\n",
       "benchmark_period_return                                           0.023343\n",
       "capital_used                                                      -224.738\n",
       "ending_cash                                                     995584.362\n",
       "ending_exposure                                                   2493.335\n",
       "ending_value                                                      2493.335\n",
       "excess_return                                                          0.0\n",
       "gross_leverage                                                    0.991728\n",
       "long_exposure                                                   496157.325\n",
       "long_value                                                      496157.325\n",
       "longs_count                                                            100\n",
       "max_drawdown                                                     -0.003708\n",
       "max_leverage                                                      0.991728\n",
       "net_leverage                                                      0.002498\n",
       "orders                   [{'id': '879d6280a1c64b70a6a23a3cc4928198', 'd...\n",
       "period_close                                     2013-01-03 21:00:00+00:00\n",
       "period_label                                                       2013-01\n",
       "period_open                                      2013-01-03 14:31:00+00:00\n",
       "pnl                                                              -3714.968\n",
       "portfolio_value                                                 998077.697\n",
       "positions                [{'sid': Equity(FIBBG000BCJ161 [SRPT]), 'amoun...\n",
       "returns                                                          -0.003708\n",
       "short_exposure                                                  -493663.99\n",
       "short_value                                                     -493663.99\n",
       "shorts_count                                                            99\n",
       "starting_cash                                                     995809.1\n",
       "starting_exposure                                                 5983.565\n",
       "starting_value                                                    5983.565\n",
       "trading_days                                                             2\n",
       "transactions             [{'amount': -185, 'dt': Timestamp('2013-01-03 ...\n",
       "treasury_period_return                                                 0.0\n",
       "algo_volatility                                                   0.061748\n",
       "alpha                                                            -0.561676\n",
       "benchmark_volatility                                              0.312781\n",
       "beta                                                              0.197417\n",
       "sharpe                                                           -3.908968\n",
       "sortino                                                           -5.79863"
      ]
     },
     "execution_count": 269,
     "metadata": {},
     "output_type": "execute_result"
    }
   ],
   "source": [
    "bt.perf.loc[bt.perf.index == '2013-01-03 00:00:00+00:00'].T"
   ]
  },
  {
   "cell_type": "code",
   "execution_count": 247,
   "id": "444416c0",
   "metadata": {},
   "outputs": [
    {
     "data": {
      "text/plain": [
       "Index(['algorithm_period_return', 'benchmark_period_return', 'capital_used',\n",
       "       'ending_cash', 'ending_exposure', 'ending_value', 'excess_return',\n",
       "       'gross_leverage', 'long_exposure', 'long_value', 'longs_count',\n",
       "       'max_drawdown', 'max_leverage', 'net_leverage', 'orders',\n",
       "       'period_close', 'period_label', 'period_open', 'pnl', 'portfolio_value',\n",
       "       'positions', 'returns', 'short_exposure', 'short_value', 'shorts_count',\n",
       "       'starting_cash', 'starting_exposure', 'starting_value', 'trading_days',\n",
       "       'transactions', 'treasury_period_return', 'algo_volatility', 'alpha',\n",
       "       'benchmark_volatility', 'beta', 'sharpe', 'sortino'],\n",
       "      dtype='object', name='column')"
      ]
     },
     "execution_count": 247,
     "metadata": {},
     "output_type": "execute_result"
    }
   ],
   "source": [
    "bt.perf.columns"
   ]
  },
  {
   "cell_type": "code",
   "execution_count": 68,
   "id": "4bca9b86",
   "metadata": {},
   "outputs": [
    {
     "data": {
      "text/plain": [
       "date\n",
       "2013-01-02 00:00:00+00:00    0.001793\n",
       "2013-01-03 00:00:00+00:00   -0.003708\n",
       "2013-01-04 00:00:00+00:00   -0.001469\n",
       "2013-01-07 00:00:00+00:00    0.000963\n",
       "2013-01-08 00:00:00+00:00    0.006013\n",
       "                               ...   \n",
       "2013-12-24 00:00:00+00:00   -0.002841\n",
       "2013-12-26 00:00:00+00:00    0.000688\n",
       "2013-12-27 00:00:00+00:00   -0.008110\n",
       "2013-12-30 00:00:00+00:00    0.001283\n",
       "2013-12-31 00:00:00+00:00   -0.001132\n",
       "Name: returns, Length: 252, dtype: float64"
      ]
     },
     "execution_count": 68,
     "metadata": {},
     "output_type": "execute_result"
    }
   ],
   "source": [
    "bt_returns"
   ]
  },
  {
   "cell_type": "code",
   "execution_count": null,
   "id": "9e9d8481",
   "metadata": {},
   "outputs": [],
   "source": []
  },
  {
   "cell_type": "code",
   "execution_count": null,
   "id": "ead5e3ed",
   "metadata": {},
   "outputs": [],
   "source": [
    "benchmark_rets = bt.benchmark_returns\n",
    "bt_returns = bt.perf['returns']\n",
    "bt_positions = bt.positions\n",
    "bt_transactions = bt.transactions"
   ]
  },
  {
   "cell_type": "code",
   "execution_count": 231,
   "id": "e57d8188",
   "metadata": {
    "scrolled": true
   },
   "outputs": [
    {
     "data": {
      "text/plain": [
       "date\n",
       "2013-01-03 00:00:00+00:00   -0.002232\n",
       "2013-01-04 00:00:00+00:00    0.004363\n",
       "2013-01-07 00:00:00+00:00   -0.002734\n",
       "2013-01-08 00:00:00+00:00   -0.002881\n",
       "2013-01-09 00:00:00+00:00    0.002547\n",
       "                               ...   \n",
       "2013-12-24 00:00:00+00:00    0.002191\n",
       "2013-12-26 00:00:00+00:00    0.005057\n",
       "2013-12-27 00:00:00+00:00   -0.000054\n",
       "2013-12-30 00:00:00+00:00   -0.000136\n",
       "2013-12-31 00:00:00+00:00    0.004733\n",
       "Name: benchmark, Length: 251, dtype: float64"
      ]
     },
     "execution_count": 231,
     "metadata": {},
     "output_type": "execute_result"
    }
   ],
   "source": [
    "benchmark_rets"
   ]
  },
  {
   "cell_type": "code",
   "execution_count": 237,
   "id": "9d4a3730",
   "metadata": {},
   "outputs": [],
   "source": [
    "a = bt_transactions.loc[bt_transactions.index == '2013-01-02 15:31:00+00:00']"
   ]
  },
  {
   "cell_type": "code",
   "execution_count": 238,
   "id": "f6955afe",
   "metadata": {},
   "outputs": [
    {
     "data": {
      "text/html": [
       "<div>\n",
       "<style scoped>\n",
       "    .dataframe tbody tr th:only-of-type {\n",
       "        vertical-align: middle;\n",
       "    }\n",
       "\n",
       "    .dataframe tbody tr th {\n",
       "        vertical-align: top;\n",
       "    }\n",
       "\n",
       "    .dataframe thead th {\n",
       "        text-align: right;\n",
       "    }\n",
       "</style>\n",
       "<table border=\"1\" class=\"dataframe\">\n",
       "  <thead>\n",
       "    <tr style=\"text-align: right;\">\n",
       "      <th>column</th>\n",
       "      <th>amount</th>\n",
       "      <th>order_id</th>\n",
       "      <th>price</th>\n",
       "      <th>sid</th>\n",
       "      <th>symbol</th>\n",
       "      <th>txn_dollars</th>\n",
       "    </tr>\n",
       "    <tr>\n",
       "      <th>date</th>\n",
       "      <th></th>\n",
       "      <th></th>\n",
       "      <th></th>\n",
       "      <th></th>\n",
       "      <th></th>\n",
       "      <th></th>\n",
       "    </tr>\n",
       "  </thead>\n",
       "  <tbody>\n",
       "    <tr>\n",
       "      <th>2013-01-02 15:31:00+00:00</th>\n",
       "      <td>190</td>\n",
       "      <td>f57ddbebc37144d98c8f491825ffd759</td>\n",
       "      <td>26.250</td>\n",
       "      <td>Equity(FIBBG000BCJ161 [SRPT])</td>\n",
       "      <td>Equity(FIBBG000BCJ161 [SRPT])</td>\n",
       "      <td>-4987.50</td>\n",
       "    </tr>\n",
       "    <tr>\n",
       "      <th>2013-01-02 15:31:00+00:00</th>\n",
       "      <td>166</td>\n",
       "      <td>edba92dff732476d9e3aba9e35eb303a</td>\n",
       "      <td>29.820</td>\n",
       "      <td>Equity(FIBBG000D32LR0 [ELLI])</td>\n",
       "      <td>Equity(FIBBG000D32LR0 [ELLI])</td>\n",
       "      <td>-4950.12</td>\n",
       "    </tr>\n",
       "    <tr>\n",
       "      <th>2013-01-02 15:31:00+00:00</th>\n",
       "      <td>686</td>\n",
       "      <td>93eb9f2de1d943c18409410ebecaf12e</td>\n",
       "      <td>7.260</td>\n",
       "      <td>Equity(FIBBG000BLCBN7 [HOV])</td>\n",
       "      <td>Equity(FIBBG000BLCBN7 [HOV])</td>\n",
       "      <td>-4980.36</td>\n",
       "    </tr>\n",
       "    <tr>\n",
       "      <th>2013-01-02 15:31:00+00:00</th>\n",
       "      <td>602</td>\n",
       "      <td>42cf80c523944a32a07c710171b90586</td>\n",
       "      <td>8.320</td>\n",
       "      <td>Equity(FIBBG000BJJGT8 [CLSN])</td>\n",
       "      <td>Equity(FIBBG000BJJGT8 [CLSN])</td>\n",
       "      <td>-5008.64</td>\n",
       "    </tr>\n",
       "    <tr>\n",
       "      <th>2013-01-02 15:31:00+00:00</th>\n",
       "      <td>550</td>\n",
       "      <td>fd972a3386374c03a25ab8d3821d9c03</td>\n",
       "      <td>9.089</td>\n",
       "      <td>Equity(FIBBG000BKXBV7 [ARNA])</td>\n",
       "      <td>Equity(FIBBG000BKXBV7 [ARNA])</td>\n",
       "      <td>-4998.95</td>\n",
       "    </tr>\n",
       "  </tbody>\n",
       "</table>\n",
       "</div>"
      ],
      "text/plain": [
       "column                     amount                          order_id   price  \\\n",
       "date                                                                          \n",
       "2013-01-02 15:31:00+00:00     190  f57ddbebc37144d98c8f491825ffd759  26.250   \n",
       "2013-01-02 15:31:00+00:00     166  edba92dff732476d9e3aba9e35eb303a  29.820   \n",
       "2013-01-02 15:31:00+00:00     686  93eb9f2de1d943c18409410ebecaf12e   7.260   \n",
       "2013-01-02 15:31:00+00:00     602  42cf80c523944a32a07c710171b90586   8.320   \n",
       "2013-01-02 15:31:00+00:00     550  fd972a3386374c03a25ab8d3821d9c03   9.089   \n",
       "\n",
       "column                                               sid  \\\n",
       "date                                                       \n",
       "2013-01-02 15:31:00+00:00  Equity(FIBBG000BCJ161 [SRPT])   \n",
       "2013-01-02 15:31:00+00:00  Equity(FIBBG000D32LR0 [ELLI])   \n",
       "2013-01-02 15:31:00+00:00   Equity(FIBBG000BLCBN7 [HOV])   \n",
       "2013-01-02 15:31:00+00:00  Equity(FIBBG000BJJGT8 [CLSN])   \n",
       "2013-01-02 15:31:00+00:00  Equity(FIBBG000BKXBV7 [ARNA])   \n",
       "\n",
       "column                                            symbol  txn_dollars  \n",
       "date                                                                   \n",
       "2013-01-02 15:31:00+00:00  Equity(FIBBG000BCJ161 [SRPT])     -4987.50  \n",
       "2013-01-02 15:31:00+00:00  Equity(FIBBG000D32LR0 [ELLI])     -4950.12  \n",
       "2013-01-02 15:31:00+00:00   Equity(FIBBG000BLCBN7 [HOV])     -4980.36  \n",
       "2013-01-02 15:31:00+00:00  Equity(FIBBG000BJJGT8 [CLSN])     -5008.64  \n",
       "2013-01-02 15:31:00+00:00  Equity(FIBBG000BKXBV7 [ARNA])     -4998.95  "
      ]
     },
     "execution_count": 238,
     "metadata": {},
     "output_type": "execute_result"
    }
   ],
   "source": [
    "a.head()"
   ]
  },
  {
   "cell_type": "code",
   "execution_count": 80,
   "id": "bc7cb2c7",
   "metadata": {},
   "outputs": [
    {
     "data": {
      "text/plain": [
       "sid\n",
       "Equity(FIBBG000B9WJ73 [ARCH])    -681\n",
       "Equity(FIBBG000BB2KW0 [APOL])    -237\n",
       "Equity(FIBBG000BB8ZF0 [WNR])      176\n",
       "Equity(FIBBG000BB9RZ5 [SHAW])     106\n",
       "Equity(FIBBG000BBQCY0 [AMD])    -1992\n",
       "                                 ... \n",
       "Equity(FIBBG00FZYFVC5 [DK])       192\n",
       "Equity(FIBBG00JPR7Y81 [HPR])     -280\n",
       "Equity(FIBBG00JSKYMY0 [BSMX])    -306\n",
       "Equity(FIBBG00NNG33D4 [GTAT])   -1545\n",
       "Equity(QI000000052980 [LGF])      295\n",
       "Name: amount, Length: 189, dtype: int64"
      ]
     },
     "execution_count": 80,
     "metadata": {},
     "output_type": "execute_result"
    }
   ],
   "source": [
    "a.groupby(\"sid\")['amount'].sum()"
   ]
  },
  {
   "cell_type": "code",
   "execution_count": 249,
   "id": "c965426f",
   "metadata": {},
   "outputs": [
    {
     "data": {
      "text/plain": [
       "-0.03408385101120299"
      ]
     },
     "execution_count": 249,
     "metadata": {},
     "output_type": "execute_result"
    }
   ],
   "source": [
    "a.txn_dollars.sum() / 995809.1"
   ]
  },
  {
   "cell_type": "code",
   "execution_count": 65,
   "id": "11dc8ed9",
   "metadata": {},
   "outputs": [
    {
     "data": {
      "text/html": [
       "<div>\n",
       "<style scoped>\n",
       "    .dataframe tbody tr th:only-of-type {\n",
       "        vertical-align: middle;\n",
       "    }\n",
       "\n",
       "    .dataframe tbody tr th {\n",
       "        vertical-align: top;\n",
       "    }\n",
       "\n",
       "    .dataframe thead th {\n",
       "        text-align: right;\n",
       "    }\n",
       "</style>\n",
       "<table border=\"1\" class=\"dataframe\">\n",
       "  <thead>\n",
       "    <tr style=\"text-align: right;\">\n",
       "      <th>column</th>\n",
       "      <th>amount</th>\n",
       "      <th>order_id</th>\n",
       "      <th>price</th>\n",
       "      <th>sid</th>\n",
       "      <th>symbol</th>\n",
       "      <th>txn_dollars</th>\n",
       "    </tr>\n",
       "    <tr>\n",
       "      <th>date</th>\n",
       "      <th></th>\n",
       "      <th></th>\n",
       "      <th></th>\n",
       "      <th></th>\n",
       "      <th></th>\n",
       "      <th></th>\n",
       "    </tr>\n",
       "  </thead>\n",
       "  <tbody>\n",
       "    <tr>\n",
       "      <th>2013-01-02 15:31:00+00:00</th>\n",
       "      <td>190</td>\n",
       "      <td>f57ddbebc37144d98c8f491825ffd759</td>\n",
       "      <td>26.25</td>\n",
       "      <td>Equity(FIBBG000BCJ161 [SRPT])</td>\n",
       "      <td>Equity(FIBBG000BCJ161 [SRPT])</td>\n",
       "      <td>-4987.5</td>\n",
       "    </tr>\n",
       "    <tr>\n",
       "      <th>2013-10-07 14:31:00+00:00</th>\n",
       "      <td>-190</td>\n",
       "      <td>6820a600b4ca4bb0bd99cf8097827a74</td>\n",
       "      <td>54.04</td>\n",
       "      <td>Equity(FIBBG000BCJ161 [SRPT])</td>\n",
       "      <td>Equity(FIBBG000BCJ161 [SRPT])</td>\n",
       "      <td>10267.6</td>\n",
       "    </tr>\n",
       "  </tbody>\n",
       "</table>\n",
       "</div>"
      ],
      "text/plain": [
       "column                     amount                          order_id  price  \\\n",
       "date                                                                         \n",
       "2013-01-02 15:31:00+00:00     190  f57ddbebc37144d98c8f491825ffd759  26.25   \n",
       "2013-10-07 14:31:00+00:00    -190  6820a600b4ca4bb0bd99cf8097827a74  54.04   \n",
       "\n",
       "column                                               sid  \\\n",
       "date                                                       \n",
       "2013-01-02 15:31:00+00:00  Equity(FIBBG000BCJ161 [SRPT])   \n",
       "2013-10-07 14:31:00+00:00  Equity(FIBBG000BCJ161 [SRPT])   \n",
       "\n",
       "column                                            symbol  txn_dollars  \n",
       "date                                                                   \n",
       "2013-01-02 15:31:00+00:00  Equity(FIBBG000BCJ161 [SRPT])      -4987.5  \n",
       "2013-10-07 14:31:00+00:00  Equity(FIBBG000BCJ161 [SRPT])      10267.6  "
      ]
     },
     "execution_count": 65,
     "metadata": {},
     "output_type": "execute_result"
    }
   ],
   "source": [
    "bt_transactions.loc[bt_transactions.symbol == 'Equity(FIBBG000BCJ161 [SRPT])']"
   ]
  },
  {
   "cell_type": "code",
   "execution_count": 67,
   "id": "4078a5c6",
   "metadata": {},
   "outputs": [
    {
     "data": {
      "text/plain": [
       "4987.5"
      ]
     },
     "execution_count": 67,
     "metadata": {},
     "output_type": "execute_result"
    }
   ],
   "source": [
    "190*26.25"
   ]
  },
  {
   "cell_type": "code",
   "execution_count": 66,
   "id": "0e44858b",
   "metadata": {},
   "outputs": [
    {
     "data": {
      "text/html": [
       "<div>\n",
       "<style scoped>\n",
       "    .dataframe tbody tr th:only-of-type {\n",
       "        vertical-align: middle;\n",
       "    }\n",
       "\n",
       "    .dataframe tbody tr th {\n",
       "        vertical-align: top;\n",
       "    }\n",
       "\n",
       "    .dataframe thead th {\n",
       "        text-align: right;\n",
       "    }\n",
       "</style>\n",
       "<table border=\"1\" class=\"dataframe\">\n",
       "  <thead>\n",
       "    <tr style=\"text-align: right;\">\n",
       "      <th>column</th>\n",
       "      <th>Equity(FIBBG000BCJ161 [SRPT])</th>\n",
       "    </tr>\n",
       "    <tr>\n",
       "      <th>date</th>\n",
       "      <th></th>\n",
       "    </tr>\n",
       "  </thead>\n",
       "  <tbody>\n",
       "    <tr>\n",
       "      <th>2013-01-02 00:00:00+00:00</th>\n",
       "      <td>4987.5</td>\n",
       "    </tr>\n",
       "    <tr>\n",
       "      <th>2013-01-03 00:00:00+00:00</th>\n",
       "      <td>5348.5</td>\n",
       "    </tr>\n",
       "    <tr>\n",
       "      <th>2013-01-04 00:00:00+00:00</th>\n",
       "      <td>5496.7</td>\n",
       "    </tr>\n",
       "    <tr>\n",
       "      <th>2013-01-07 00:00:00+00:00</th>\n",
       "      <td>5492.9</td>\n",
       "    </tr>\n",
       "    <tr>\n",
       "      <th>2013-01-08 00:00:00+00:00</th>\n",
       "      <td>5363.7</td>\n",
       "    </tr>\n",
       "    <tr>\n",
       "      <th>...</th>\n",
       "      <td>...</td>\n",
       "    </tr>\n",
       "    <tr>\n",
       "      <th>2013-12-24 00:00:00+00:00</th>\n",
       "      <td>0.0</td>\n",
       "    </tr>\n",
       "    <tr>\n",
       "      <th>2013-12-26 00:00:00+00:00</th>\n",
       "      <td>0.0</td>\n",
       "    </tr>\n",
       "    <tr>\n",
       "      <th>2013-12-27 00:00:00+00:00</th>\n",
       "      <td>0.0</td>\n",
       "    </tr>\n",
       "    <tr>\n",
       "      <th>2013-12-30 00:00:00+00:00</th>\n",
       "      <td>0.0</td>\n",
       "    </tr>\n",
       "    <tr>\n",
       "      <th>2013-12-31 00:00:00+00:00</th>\n",
       "      <td>0.0</td>\n",
       "    </tr>\n",
       "  </tbody>\n",
       "</table>\n",
       "<p>252 rows × 1 columns</p>\n",
       "</div>"
      ],
      "text/plain": [
       "column                     Equity(FIBBG000BCJ161 [SRPT])\n",
       "date                                                    \n",
       "2013-01-02 00:00:00+00:00                         4987.5\n",
       "2013-01-03 00:00:00+00:00                         5348.5\n",
       "2013-01-04 00:00:00+00:00                         5496.7\n",
       "2013-01-07 00:00:00+00:00                         5492.9\n",
       "2013-01-08 00:00:00+00:00                         5363.7\n",
       "...                                                  ...\n",
       "2013-12-24 00:00:00+00:00                            0.0\n",
       "2013-12-26 00:00:00+00:00                            0.0\n",
       "2013-12-27 00:00:00+00:00                            0.0\n",
       "2013-12-30 00:00:00+00:00                            0.0\n",
       "2013-12-31 00:00:00+00:00                            0.0\n",
       "\n",
       "[252 rows x 1 columns]"
      ]
     },
     "execution_count": 66,
     "metadata": {},
     "output_type": "execute_result"
    }
   ],
   "source": [
    "bt_positions.loc[:, ['Equity(FIBBG000BCJ161 [SRPT])']]"
   ]
  },
  {
   "cell_type": "code",
   "execution_count": null,
   "id": "bac96fcf",
   "metadata": {},
   "outputs": [],
   "source": []
  },
  {
   "cell_type": "code",
   "execution_count": null,
   "id": "4c18e335",
   "metadata": {},
   "outputs": [],
   "source": []
  },
  {
   "cell_type": "code",
   "execution_count": null,
   "id": "d2a05b8e",
   "metadata": {},
   "outputs": [],
   "source": []
  }
 ],
 "metadata": {
  "kernelspec": {
   "display_name": "Python 3 (ipykernel)",
   "language": "python",
   "name": "python3"
  },
  "language_info": {
   "codemirror_mode": {
    "name": "ipython",
    "version": 3
   },
   "file_extension": ".py",
   "mimetype": "text/x-python",
   "name": "python",
   "nbconvert_exporter": "python",
   "pygments_lexer": "ipython3",
   "version": "3.8.9"
  }
 },
 "nbformat": 4,
 "nbformat_minor": 5
}
